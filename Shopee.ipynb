{
 "cells": [
  {
   "cell_type": "code",
   "execution_count": 15,
   "id": "38e6b871",
   "metadata": {},
   "outputs": [
    {
     "data": {
      "text/plain": [
       "3.1418024"
      ]
     },
     "execution_count": 15,
     "metadata": {},
     "output_type": "execute_result"
    }
   ],
   "source": [
    "import numpy as np\n",
    "\n",
    "number_loop = 10000000\n",
    "\n",
    "number_target = 0\n",
    "\n",
    "number_throw = 0\n",
    "\n",
    "for i in range(number_loop):\n",
    "    x = np.random.rand()\n",
    "    y = np.random.rand()\n",
    "    \n",
    "    number_throw+=1\n",
    "    \n",
    "    if ((x**2 + y**2)<=1):\n",
    "        number_target+=1\n",
    "np.around(4*(number_target/number_throw),10)"
   ]
  },
  {
   "cell_type": "code",
   "execution_count": null,
   "id": "ac4b5b13",
   "metadata": {},
   "outputs": [],
   "source": []
  }
 ],
 "metadata": {
  "kernelspec": {
   "display_name": "Python 3 (ipykernel)",
   "language": "python",
   "name": "python3"
  },
  "language_info": {
   "codemirror_mode": {
    "name": "ipython",
    "version": 3
   },
   "file_extension": ".py",
   "mimetype": "text/x-python",
   "name": "python",
   "nbconvert_exporter": "python",
   "pygments_lexer": "ipython3",
   "version": "3.10.11"
  }
 },
 "nbformat": 4,
 "nbformat_minor": 5
}
